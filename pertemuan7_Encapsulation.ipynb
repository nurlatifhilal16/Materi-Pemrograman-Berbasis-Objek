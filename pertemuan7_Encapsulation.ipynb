{
 "cells": [
  {
   "cell_type": "markdown",
   "metadata": {},
   "source": [
    "##ENCAPSULATION##\n",
    "\n",
    "encapsulation bisa disebut dengan informasi yang tersembunyi(property dan method privat agar bisa diakses di luar kelas).\n",
    "Atau bisa dijabarkan dengan suatu pengapsulan atau pengelompokan  method dan property yang ada dalam suatu class agar dapat di akses di luar class.\n",
    "\n",
    "Cara mebuat property atau method privat:\n",
    "1. dengan cara memberi 1 underscore sebelum nama variabel atau method.\n",
    "   variabel atau method jenis yang ini tidak dapat di akses secara langsung\n",
    "2. dengan cara memberi 2 undercore sebelum nama variabel atau method.\n",
    "   variabel atau method jenis ini lebih sulit di akses daripada yang  underscore satu, tapi masih memungkinkan diakses.\n",
    "\n",
    "Cara mengakses method atau property private dalam encapsulation adalah:\n",
    "1. dengan cara membuatkan method baru yang bersivat global kemudian di panggil\n",
    "2. dengan cara membuat objek yang berisi nama class, kemudian digunakan untuk memanggil method private dengan cara: namaObjek._namaClass.__namaMethodPrivate\n",
    "\n"
   ]
  },
  {
   "cell_type": "code",
   "execution_count": null,
   "metadata": {},
   "outputs": [],
   "source": [
    "#contoh encapsulation\n",
    "\n",
    "class robot(object):\n",
    "    def __init__(self):\n",
    "        #public\n",
    "        self.a=123\n",
    "        #encapsulation dengan 1 underscore\n",
    "        self._b=123\n",
    "        #encapsulation dengan 2 underscore\n",
    "        self.__c=123\n",
    "obj=robot()\n",
    "print (obj.a)\n",
    "print (obj._b)\n",
    "#print (obj.__c)\n",
    "print (obj._robot__c)"
   ]
  },
  {
   "cell_type": "markdown",
   "metadata": {},
   "source": [
    "Contoh di atas nmenunjukkan ada tiga variabel yaitu public, encapsulation denga satu undesrscore dan dengan dua underscore.\n",
    "Untuk mengakses public dapat dilakukan dengan cara mencetak, dan untuk yang encapsulation satu underscoe juga dapat langsung di cetak, akan tetapi berbeda dengan yang memiliki dua underscore maka harus sesuai dengan prosedur pemaggilan yaitu dengan cara khusus yang sudah saya jelaskan di atas.\n",
    "Jika dalam pengaksesan variabel dengan dua underscore tersebut menggunakan cara yang biasa, maka akan terjadi error."
   ]
  },
  {
   "cell_type": "code",
   "execution_count": null,
   "metadata": {},
   "outputs": [],
   "source": [
    "#contoh merubah nilai menggunakan bantuan fungssi public\n",
    "\n",
    "class car:\n",
    "    __maxSpeed=0\n",
    "    __name=''\n",
    "    \n",
    "    def __init__(self):\n",
    "        self.__maxSpeed=200\n",
    "        self.__name='Super Car'\n",
    "    def drive(self):\n",
    "        print ('Driving maxs speed'+ str(self.__maxSpeed))\n",
    "    def setMaxSpeed(self,speed):\n",
    "        self.__maxSpeed=speed\n",
    "        \n",
    "redcar=car()\n",
    "redcar.drive()\n",
    "redcar.__maxSpeed=350\n",
    "redcar.setMaxSpeed(350)\n",
    "redcar.drive()"
   ]
  },
  {
   "cell_type": "markdown",
   "metadata": {},
   "source": [
    "Contoh program di atas terdapat dua variabel privat dan kemudian nilai dari variabel tersebut akan di akses dalam method  drive.\n",
    "Jika ingin elakukan perubahan nilai dari variabel tersebut tidak dilakukan dengan cara langsung mengganti nilainya di main program seperti dalam program line 17. tetapi harus dengan menggunakan bantuan method baru yang bersifan public (setmaaxSpeed) dan diganti nilainya di main program seperti pada contoh di line 18"
   ]
  },
  {
   "cell_type": "code",
   "execution_count": null,
   "metadata": {},
   "outputs": [],
   "source": [
    "class mahasiswa:\n",
    "    def __init__(self):\n",
    "        self.__nama='Hilal'\n",
    "        self.__nilai1=80\n",
    "        self.__nilai2=100\n",
    "    def __rata(self):\n",
    "        print('nama:',self.__nama,'nilai total:',(self.__nilai1 + self.__nilai2)/2)\n",
    "    def nama(self):\n",
    "        print ('nama:',self.__nama)\n",
    "    def nilai(self):\n",
    "        print ('nilai 1:', self.__nilai1,'nilai 2:',self.__nilai2)\n",
    "    def setnilai1(self,nilaiBaru):\n",
    "        self.__nilai1=nilaiBaru\n",
    "\n",
    "mhs=mahasiswa()\n",
    "mhs.nama()\n",
    "mhs.nilai()\n",
    "mhs.setnilai1(90)\n",
    "mhs.nilai()\n",
    "mhs._mahasiswa__rata()\n",
    "\n",
    "print ()\n",
    "print(mhs._mahasiswa__nama)\n",
    "print(mhs._mahasiswa__nilai1)\n",
    "print(mhs._mahasiswa__nilai2)"
   ]
  },
  {
   "cell_type": "markdown",
   "metadata": {},
   "source": [
    "Denagn menggunakan encapsulation ini maka kita dapat membatasi akses kedalam method dan vatiabel yang kita miliki, sehingga hal ini mencegah adanya modifikasi secara lengsung."
   ]
  }
 ],
 "metadata": {
  "kernelspec": {
   "display_name": "Python 3",
   "language": "python",
   "name": "python3"
  },
  "language_info": {
   "codemirror_mode": {
    "name": "ipython",
    "version": 3
   },
   "file_extension": ".py",
   "mimetype": "text/x-python",
   "name": "python",
   "nbconvert_exporter": "python",
   "pygments_lexer": "ipython3",
   "version": "3.6.5"
  }
 },
 "nbformat": 4,
 "nbformat_minor": 2
}
