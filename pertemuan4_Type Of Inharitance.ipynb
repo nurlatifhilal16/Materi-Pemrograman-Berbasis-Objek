{
 "cells": [
  {
   "cell_type": "markdown",
   "metadata": {},
   "source": [
    "##TYPE OF INHARITANCE##\n",
    "\n",
    "Inharitance atau pewarisan adalah konsep pemrograman dimana sebuah class yang pertama dibuat dapat menurunkan atau mewariskan method dan properti yang dimiliki kepada class lain. Dengan penurunan sifat tersebut maka sub class akan dapat menggunakan method dan priperti dari class yang mewarisinya tersebut.\n",
    "\n",
    "Jenis-jenis dari Inharitance:\n",
    "1. Default\n",
    "2. Overriding\n",
    "3. Super\n",
    "4. Multiple Inharitance\n",
    "\n",
    "1. Default\n",
    "Default adalah inharitance yang menggunakan (pass) untuk mewariskan method dan properti yang dimiliki kepada sub class. dengan cara ini maka sub class akan mewarisi semua yang ada di class induknnya, dan bisa disebut sama persis seperti yang dimiliki sang induk class.\n",
    "\n",
    "2. Overriding\n",
    "Overriding adalah method baru dari class anak yang berfungsi untuk merubah nilai dari properti kelas induk. Inharitance tipe ini digunakan ketika kita ingin menggunakan beberapa perilaku kelas induk tetapi tidak semuanya, maka maka menggunakan overriding di class anak.\n",
    "Syarat penggunaan overriding adalah nama methode dan properti harus sama dengan yang dimiliki class induk yang mewariskan.\n",
    "\n",
    "3. Super\n",
    "Super adalah tipe inharitance dengan cara menambahkan properti dari class induk yang ingin di gunakan class anak ke dalam constructor class anak. Penggunaan super hanya bisa mewariskan properti apa saja yang ditambahkan ke dalam constructor class anak, jadi ada keterbatasan mengakses dari class anak. Berbeda dengan pass yang mewarikan semuanya.\n",
    "\n",
    "4. Multiple Inharitance\n",
    "Multiple inharitance adalah dimana satu class dapat mewarisi lebih cari satu class induk, baik dari method dan properti dari class induk yang mewarisi. Dan untuk class yang diwarisi nantinya akan mempunyai parameter sejumlah class yang mewariskan sifatnya kepada class ini."
   ]
  },
  {
   "cell_type": "code",
   "execution_count": null,
   "metadata": {},
   "outputs": [],
   "source": [
    "#contoh program mengunakan overriding\n",
    "\n",
    "class fish:\n",
    "    def __init__(self,first_name='fish',skeleton='bone',eyelids=False):\n",
    "        self.first_name=first_nam\n",
    "        self.skeleton=skeleton\n",
    "        self.eyelids=eyelids\n",
    "    def swim(self):\n",
    "        print ('The fish is swiming')\n",
    "    def swim_backwards(self):\n",
    "        print ('The fish cah swim backward')\n",
    "        \n",
    "class Shark(fish):\n",
    "    def __init__(self,first_name,last_name='shark',skeleton='cartilage',eyelids=True):\n",
    "        self.first_name=first_name\n",
    "        self.last_name=last_name\n",
    "        self.skeleton=skeleton\n",
    "        self.eyelids=eyelids\n",
    "    def swim_backwards(self):\n",
    "        print ('The shark cannot swim backward, but can sink backwards')\n",
    "\n",
    "hiu=Shark('hiu besar')\n",
    "hiu.swim_backwards()\n",
    "        "
   ]
  },
  {
   "cell_type": "markdown",
   "metadata": {},
   "source": [
    "Dalam program di atas, kita bisa melihat overriding di class anak pada method swim_backwards. Dimana pada method tersebut merubah nilai dari method class parent yang juga memiliki nama method yang sama yaitu swim_backwards."
   ]
  },
  {
   "cell_type": "code",
   "execution_count": null,
   "metadata": {},
   "outputs": [],
   "source": [
    "#contoh program menggunakan override\n",
    "\n",
    "class persegi:\n",
    "    def __init__(self,sisi=4, bentuk='persegi'):\n",
    "        self.sisi = sisi\n",
    "        self.bentuk = bentuk\n",
    "    def display(self):\n",
    "        print ('jumlah segi: ', self.sisi)\n",
    "        print ('bentuk: ',self.bentuk)\n",
    "    def deskripsi(self):\n",
    "        print ('mempunyao sisi yang sama panjang')\n",
    "        \n",
    "class persegiPanjang(persegi):\n",
    "    def __init__(self,sisi=4,bentuk='persegi panjang'):\n",
    "        self.sisi=sisi\n",
    "        self.bentuk=bentuk\n",
    "    def deskripsi(self):\n",
    "        print ('ada 2 pasang yang memunyai panjang sisi yang sama')\n",
    "\n",
    "class bujurSangkar(persegi):\n",
    "    def __init__(self,sisi=4,bentuk='bujur sangkar'):\n",
    "        self.sisi=sisi\n",
    "        self.bentuk=bentuk\n",
    "    def deskripsi(self):\n",
    "        print('keempatnya sama panjang')\n",
    "        \n",
    "A=persegi()\n",
    "A.display()\n",
    "B=persegiPanjang()\n",
    "B.deskripsi()        "
   ]
  },
  {
   "cell_type": "markdown",
   "metadata": {},
   "source": [
    "Dalam program di atas, kita bisa melihat overriding di class persegiPanjang dan bujurSangkar yang merupakan sub class dari persegi. overriding tersebut adalah method deskripsi yang masing-masing mempunyai nilai berbeda-beda satu sama lain."
   ]
  },
  {
   "cell_type": "code",
   "execution_count": null,
   "metadata": {
    "scrolled": true
   },
   "outputs": [],
   "source": [
    "#contoh program menggunakan super\n",
    "\n",
    "import time\n",
    "class orang:\n",
    "    def __init__(self,nama):\n",
    "        self.nama=nama\n",
    "    def printNama(self):\n",
    "        print ('nama: ',self.nama)\n",
    "        \n",
    "class mahasiswa(orang):\n",
    "    def __init__(self,nim,nama):\n",
    "        orang.__init__(self,nama)\n",
    "        self.nim=nim\n",
    "        self.smester=0\n",
    "    def smester(self):\n",
    "        tahun=time.strftime(\"%Y\");bulan=int(time.strftime(\"%m\"))\n",
    "        masuk=int(self.nim[0:2])\n",
    "        if int(bulan)>=8:\n",
    "            self.smester=(int(tahun[2:4])-int(masuk))*2+1\n",
    "        else:\n",
    "            self.smester=(int(tahun[2:4])-int(masuk))*2\n",
    "    def display_mhs(self):\n",
    "        mahasiswa.smester(self)\n",
    "        print ('nama :',self.nama,'nim :',self.nim, 'smester :',self.smester)\n",
    "        \n",
    "class pegawai(orang):\n",
    "    def __init__(self,nip,nama):\n",
    "        orang.__init__(self,nama)\n",
    "        self.nip=nip\n",
    "    def display_pegawai(self):\n",
    "        print ('nama :',self.nama,'nip :',self.nip)\n",
    "class dosen(pegawai):\n",
    "    def __init__(self,nama,nip,nidn):\n",
    "        pegawai.__init__(self,nip,nama)\n",
    "        self.nidn=nidn\n",
    "    def display_dosen(self):\n",
    "        print ('nama :',self.nama,'nip :',self.nip,'nidn :',self.nidn)\n",
    "class karyawan(pegawai):\n",
    "    pass\n",
    "        \n",
    "mhs=mahasiswa('170411100053','hilal')\n",
    "mhs.printNama()\n",
    "mhs.display_mhs()\n",
    "print ()\n",
    "\n",
    "Dosen=dosen('jono','123','456')\n",
    "Dosen.display_dosen()\n",
    "print ()\n",
    "\n",
    "Karyawan=karyawan('12345','heri')\n",
    "Karyawan.display_pegawai()"
   ]
  },
  {
   "cell_type": "markdown",
   "metadata": {},
   "source": [
    "Dari contoh program diatas terdapat class orang yang merupakan parent class dan terdapat class mahasiswa dan pegawai yang menjadi sub class dari class orang tersebut dengan tanda adanya parameter(orang) di setiap sub class tersebut.\n",
    "\n",
    "Dan masing-masing dari sub class tersebut melakukan inharitance dengan menggunakan super atau menambahka properti(nama) yang dimiliki orang ke dalam konstruktor dari mahasiswa dan pegawai agar kedua class tersebut dapat menggunakan properti tersebut.\n",
    "\n",
    "Kemudian terdapat class lagi yang bernama dosen yang juga meng inharitance dari class diatasnya yaitu class pegawai yang mempunyai atribut nama dan nip, dan kedua atribut tersebut juga di turunkan ke class  ini dengan cara menambahkannya di konstruktor agar bisa digunakan dan di akses di class dosen.\n",
    "\n",
    "Yang terakhir terdapat class karyawan dimana class ini mengambil apapun yang dimiliki class pegawai dengan cara menggunakan inharitance default(pass), sehingga class ini mempunyai kebebasan untuk mengakses semua yang dimiliki oleh class pegawai yang di inhariten tersebut."
   ]
  },
  {
   "cell_type": "code",
   "execution_count": null,
   "metadata": {},
   "outputs": [],
   "source": [
    "#contoh program menggunakan multiple inharitance\n",
    "\n",
    "class person:\n",
    "    def __init__(self):\n",
    "        self.name=input(\"nama \")\n",
    "        \n",
    "    def display(self):\n",
    "        print ('\\n\\nname: ',self.name)\n",
    "        \n",
    "class marks:\n",
    "    def __init__(self):\n",
    "        self.npm=input('npm: ')\n",
    "        print ('nilai')\n",
    "        self.math=input('math: ')\n",
    "        self.biology=input('biology: ')\n",
    "        \n",
    "    def display(self):\n",
    "        print ('npm',self.npm)\n",
    "        print ('nilai', self.math + self.biology)\n",
    "        \n",
    "class student(person,marks):\n",
    "    def __init__(self):\n",
    "        person.__init__(self)\n",
    "        marks.__init__(self)\n",
    "        \n",
    "    def result(self):\n",
    "        person.display(self)\n",
    "        marks.display(self)\n",
    "        \n",
    "        \n",
    "stu1=student()\n",
    "stu2=student()\n",
    "stu1.result()\n",
    "stu2.result()"
   ]
  },
  {
   "cell_type": "markdown",
   "metadata": {},
   "source": [
    "Contoh program diatas menunjukkan bahwa class student mewarisi sifat dari class person dan marks, hal tersebut dapat dilihat dengan adanya dua parameter yang terdapat pada class student tersebut. Jadi dengan adanya multiple inharitance tersebut class student mewarisi method dan properti dari kedua class yang menjadi infuk class nya."
   ]
  },
  {
   "cell_type": "code",
   "execution_count": null,
   "metadata": {},
   "outputs": [],
   "source": []
  }
 ],
 "metadata": {
  "kernelspec": {
   "display_name": "Python 3",
   "language": "python",
   "name": "python3"
  },
  "language_info": {
   "codemirror_mode": {
    "name": "ipython",
    "version": 3
   },
   "file_extension": ".py",
   "mimetype": "text/x-python",
   "name": "python",
   "nbconvert_exporter": "python",
   "pygments_lexer": "ipython3",
   "version": "3.6.5"
  }
 },
 "nbformat": 4,
 "nbformat_minor": 2
}
