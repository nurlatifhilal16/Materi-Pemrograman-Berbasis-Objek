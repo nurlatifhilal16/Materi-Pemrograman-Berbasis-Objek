{
 "cells": [
  {
   "cell_type": "markdown",
   "metadata": {},
   "source": [
    "##CLASS AND OBJECT##\n",
    "\n",
    "-Class adalah objek yang di dalamnya terdapat beberapa metode yang merupakan isi dari sebuah class ini, dan metode yang ada di dalamya mempunyai sifat-sifat tertentu sehingga kita mudah untuk mengorganisasi dan menggunakannya.\n",
    "\n",
    "-Object adalah variabel yang mempunyai nilai yang mengacu pada nama dari class yang dibuat.\n",
    "\n",
    "Dalam class kita dapat melakukan sesuatu dengan menggunakan:\n",
    "1.Atribut:nilai-nilai yang kita miliki.\n",
    "2.Methods:suatu hal dalam class yang dapat melakukan sesuatu.\n",
    "\n",
    "##1.class dapat membuat objek\n",
    "##2.objek itu dapat melakukan sesuatu\n",
    "\n",
    "Hal yang perlu diperhatikan dalam membuat class adalah:\n",
    "1.Kita tahu atribut apa saja yang akan kita gunakan dari objek\n",
    "2.Kita paham apa yang dapat dikerjakan dari objek yang kita buat.\n",
    "\n",
    "contoh dalam class:\n",
    "a. Mahasiswa\n",
    "   atribut: nama, nim, alamat\n",
    "   metode: KRS\n",
    "b. Mobil\n",
    "   atribut: merk, CC\n",
    "   metode: keccepatan\n",
    "   \n",
    "Perbedaaan class dan objek:\n",
    "class adalah bukan object tapi digunakaan untuk membangun objek."
   ]
  },
  {
   "cell_type": "code",
   "execution_count": null,
   "metadata": {},
   "outputs": [],
   "source": [
    "#contoh class python:\n",
    "\n",
    "class kubus:\n",
    "    def __init__(self,s):\n",
    "        self.sisi=s\n",
    "        \n",
    "    def tampilkansisi(self):\n",
    "        print (self.sisi)\n",
    "        \n",
    "    def luas(self):\n",
    "        print (\"luas\", self.sisi**2)\n",
    "        \n",
    "kubus1=kubus(4)\n",
    "kubus1.tampilkansisi()\n",
    "kubus1.luas()"
   ]
  },
  {
   "cell_type": "markdown",
   "metadata": {},
   "source": [
    "Penjelasan contoh diatas:\n",
    "\n",
    "__init__ merupakan konstructor, yaitu metode khusus yang digunakan Python \n",
    "untuk menginisialisasi pembuatan objek dari kelas tersebut. Dan di dalam constructor terdapat properti yang akan di insisalisasi dan di jalankan dala class tersebut.\n",
    "\n",
    "def tampilkansisi() dan luas(), adalah method dari class kubus tersebut dengan ditandai adanya parameter self untuk membedakan method dari class yang lain.\n",
    "\n",
    "kubus1 adalah objek dari class kubus di atas."
   ]
  },
  {
   "cell_type": "code",
   "execution_count": null,
   "metadata": {},
   "outputs": [],
   "source": [
    "#contoh class pegawai\n",
    "\n",
    "class pegawai:\n",
    "    def __init__ (self,n,j,g):\n",
    "        self.nama=n\n",
    "        self.jabatan=j\n",
    "        self.gaji=g\n",
    "        \n",
    "    def tampilkan(self):\n",
    "        print (self.nama,',',self.jabatan,'dan gaji',self.gaji*30)\n",
    "p1=pegawai('adi','admin',5000)\n",
    "p1.tampilkan()"
   ]
  },
  {
   "cell_type": "code",
   "execution_count": null,
   "metadata": {},
   "outputs": [],
   "source": [
    "#contoh class kubus dengan menampilkan luas, volume dan luas permukaan\n",
    "\n",
    "class kubus:\n",
    "    def __init__(self,s):\n",
    "        self.sisi= s\n",
    "    def tampilkansisi(self):\n",
    "        print (self.sisi)\n",
    "    def luas(self):\n",
    "        print (\"luas\", self.sisi**2)\n",
    "    def volume(self):\n",
    "        print (\"volume\", self.sisi**3)\n",
    "    def luas_permukaan(self):\n",
    "        print (\"luas permukaan\", (self.sisi**2)*6)\n",
    "        \n",
    "kubus1=kubus(4)\n",
    "kubus1.tampilkansisi()\n",
    "kubus1.luas()\n",
    "kubus1.volume()\n",
    "kubus1.luas_permukaan()\n"
   ]
  },
  {
   "cell_type": "code",
   "execution_count": null,
   "metadata": {},
   "outputs": [],
   "source": [
    "#contoh class mahasiswa\n",
    "\n",
    "class mahasiswa():\n",
    "    def __init__(self,npm,nm,ipk):\n",
    "        self.NPM=npm\n",
    "        self.nama=nm\n",
    "        self.IPK=ipk\n",
    "        \n",
    "    def tampilkan(self):\n",
    "        print (\"NPM\",self.NPM,\"\\nnama\",self.nama,\"\\nIPK\",self.IPK)\n",
    "    def predikat(self):\n",
    "        if self.IPK >= 3.5 :\n",
    "            print ('cumlaude')\n",
    "        elif self.IPK < 3.5 :\n",
    "            print ('sangat memaskan')\n",
    "        elif self.IPK <= 3.5 :\n",
    "            print ('cukup')\n",
    "            \n",
    "mhs1=mahasiswa('170411100053','hilal',3.8)\n",
    "mhs1.tampilkan()\n",
    "mhs1.predikat()\n",
    "    "
   ]
  },
  {
   "cell_type": "markdown",
   "metadata": {},
   "source": [
    "Jadi class adalah kode template untuk mebuat objek-objek, dan di dalam objek tersebut terdapat property-property yang memiliki perilaku terkait dengan class yang dibut tersebut.\n",
    "\n",
    "Struktur data yang bisa kita gunakan untuk mendefinisikan objek yang menyimpan data bersama-sama nilai-nilai dan perilaku (behavior). Kelas adalah suatu entitas yang merupakan bentuk program dari suatu abstraksi untuk permasalahan dunia nyata, dan instans dari class merupakan realisasi dari beberapa objek."
   ]
  }
 ],
 "metadata": {
  "kernelspec": {
   "display_name": "Python 3",
   "language": "python",
   "name": "python3"
  },
  "language_info": {
   "codemirror_mode": {
    "name": "ipython",
    "version": 3
   },
   "file_extension": ".py",
   "mimetype": "text/x-python",
   "name": "python",
   "nbconvert_exporter": "python",
   "pygments_lexer": "ipython3",
   "version": "3.6.5"
  }
 },
 "nbformat": 4,
 "nbformat_minor": 2
}
