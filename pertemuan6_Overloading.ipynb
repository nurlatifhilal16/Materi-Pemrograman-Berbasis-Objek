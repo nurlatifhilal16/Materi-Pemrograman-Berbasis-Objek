{
 "cells": [
  {
   "cell_type": "markdown",
   "metadata": {},
   "source": [
    "##OVERLOADING##\n",
    "\n",
    "Fungsi Overloading adalah suatu method dalam class python yang memilki parameter, dan parameter tersebut dapat memiliki nama fungsi yang sama dengan method yang lainnya dengan syarat parameter harus berbeda. Maksud dari parameter yang berbeda tersubut adalah jumlah parameter, tipe data dari parameter dan urutan dari tipe data parameter.\n",
    "\n",
    "Operator Overloading adalah pembuatan beberapa fungsi atau kegunaan untuk suatu operator. Misalnya operator plus(+) dibuat tidak hanya untuk penjumlahan saja tetapi dapat digunakan juga dalam fungsi yang lain.\n",
    "\n",
    "overloading: sebuah methode yg sama dengan berbagai cara utuk memangilnya. banyak arti, bisa menambakan dan juga bisa menggabungkan\n",
    "\n",
    "methode yg terakhir yang terbaca oleh main program,  karena python sebenarnya tidak support overrloading\n",
    "\n",
    "Overloading dalam python digunakan untuk mendefiisikan method spesial di dalam class(magic meyhod atau special method)"
   ]
  },
  {
   "cell_type": "code",
   "execution_count": null,
   "metadata": {},
   "outputs": [],
   "source": [
    "#Contoh method overloading\n",
    "\n",
    "def add(a,b):\n",
    "    return a+b\n",
    "def add(a,b,c):\n",
    "    return a+b+c\n",
    "print (add(1,2,3))"
   ]
  },
  {
   "cell_type": "markdown",
   "metadata": {},
   "source": [
    "Contoh overloading di atas hanya mengeksekusi perintah add yang paling terakhir, karena di python sejatinya tidak mendukung adanya overloading.\n",
    "Jika dipaksaka ingin menjalankan add yang pertama dengan memberikan dua jumlah parameter maka hasinya akan error."
   ]
  },
  {
   "cell_type": "code",
   "execution_count": null,
   "metadata": {},
   "outputs": [],
   "source": [
    "class Fraction:\n",
    "    def __init__(self,top,bottom):\n",
    "        self.num=top\n",
    "        self.den=bottom\n",
    "    #def show(self):\n",
    "        #print (self.num,'/',self.den)\n",
    "    def  __str__(self):\n",
    "        return str(self.num)+'/'+str(self.den)\n",
    "    def __add__(self,otherfraction):\n",
    "        newnum=self.num* otherfraction.den + self.den* otherfraction.num\n",
    "        newden=self.den*otherfraction.den\n",
    "        return Fraction(newnum,newden)\n",
    "    \n",
    "f1=Fraction(1,3)\n",
    "f2=Fraction(2,4)\n",
    "f1.show()\n",
    "print (f1)\n",
    "print ()\n",
    "print (f1+f2)"
   ]
  },
  {
   "cell_type": "markdown",
   "metadata": {},
   "source": [
    "pemanggilan dalam class di atas menggunakan magic cass yang di sediakan oleh python yaitu __str__ untuk konversi object ke dalam bentuk string.\n",
    "ada juga __add__ yang berfungsi untuk operator penjumlahan, yang dalam hal ini digunakan untuk menjumlahkan objek f1 dan f2."
   ]
  },
  {
   "cell_type": "code",
   "execution_count": null,
   "metadata": {},
   "outputs": [],
   "source": [
    "#koordinat\n",
    "class point:\n",
    "    def __init__(self,x=0,y=0):\n",
    "        self.x=x\n",
    "        self.y=y\n",
    "    def __str__(self):\n",
    "        #return \"Point object is at: (\"+str(self.x)+ \",\"+str(self.y)\")\"\n",
    "        return \"Point object is at:({0},{1})\".format(self.x,self.y)\n",
    "    def __add__(self,other):\n",
    "        x=self.x-other.x\n",
    "        y=self.y-other.y\n",
    "        return point(x,y)\n",
    "p1=point(2,3)\n",
    "p2=point(-1,2)\n",
    "print (p1+p2)"
   ]
  },
  {
   "cell_type": "code",
   "execution_count": null,
   "metadata": {},
   "outputs": [],
   "source": [
    "class human:\n",
    "    def sayHello(self, nama=None):\n",
    "\n",
    "        if nama is not None:\n",
    "            print ('Hello ' + nama)\n",
    "        else:\n",
    "            print ('Hello ')\n",
    "            \n",
    "#create instance            \n",
    "obj = human()\n",
    "#call the methode\n",
    "obj.sayHello()\n",
    "#call the methode with a parameter\n",
    "obj.sayHello('Guido')"
   ]
  },
  {
   "cell_type": "code",
   "execution_count": null,
   "metadata": {},
   "outputs": [],
   "source": []
  }
 ],
 "metadata": {
  "kernelspec": {
   "display_name": "Python 3",
   "language": "python",
   "name": "python3"
  },
  "language_info": {
   "codemirror_mode": {
    "name": "ipython",
    "version": 3
   },
   "file_extension": ".py",
   "mimetype": "text/x-python",
   "name": "python",
   "nbconvert_exporter": "python",
   "pygments_lexer": "ipython3",
   "version": "3.6.5"
  }
 },
 "nbformat": 4,
 "nbformat_minor": 2
}
