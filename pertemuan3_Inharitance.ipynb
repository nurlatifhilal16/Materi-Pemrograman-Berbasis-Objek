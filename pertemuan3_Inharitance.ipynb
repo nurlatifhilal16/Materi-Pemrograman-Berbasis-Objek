{
 "cells": [
  {
   "cell_type": "markdown",
   "metadata": {},
   "source": [
    "##INHARITANCE##\n",
    "\n",
    "Inharitance adalah pewarisan metode-metode dari class yang satu class kedalam class yang lain, class yang mewariskan disebut parent class dan class yang mewarisi method itu dinamakan sub class atau anak dari parent class.\n",
    "Class yang mendapatkan pewarisan dari parent class maka akan dapat menggunakan metode dan variabel yang terdapat dalam parent class.\n",
    "\n",
    "Jadi yang selama ini kita ketahui pewarisan hanya terdapat dalam ilmu biologi tentang pewarisan sifat dari orang tua yang mewariskan sifat-sifat tertentu ke anaknya, sekarang kita juga mengetahui bahwa pewarisan juga terdapat pada bahasa pemrograman.\n",
    "\n",
    "\n",
    "Berikut ini adalah jenis-jenis inharitance:\n",
    "1.simple inharitance\n",
    "example : misal class A adalah kelas induk, dan class B adalan sub class. maka class B yang sebagai anak class dapat mengakses method dan variabel yang ada di class A.\n",
    "2.Multilavel inharitance\n",
    "example : misal class A adalah kelas induk, dan class B adalan sub class, dan ada satu lagi class C yang merupakan sub class A. Akan tetapi class C mengambil dari class B yang terlebih dahulu menjadi sub class A\n",
    "3.Hearachical inharitance:\n",
    "example : misal class A adalah kelas induk, dan class B adalan sub class, dan satu lagi class C menjadi sub class dari A. Jadi kedua class yaitu B dan C sama-sama dapat mengakses method dan variable dari class A.\n",
    "\n"
   ]
  },
  {
   "cell_type": "code",
   "execution_count": null,
   "metadata": {},
   "outputs": [],
   "source": [
    "#Contoh program inharitance\n",
    "\n",
    "class user:\n",
    "    def __init__(self,name):\n",
    "        self.name=name\n",
    "    def printName(self):\n",
    "        print (\"nama =\"+ self.name)\n",
    "class programmer(user):\n",
    "    def __init__(self,name,lastname):\n",
    "        super().__init__(name)\n",
    "        self.lastname=lastname\n",
    "    def printLastname(self):\n",
    "        print (\"nama =\"+ self.name, self.lastname)\n",
    "    def doPython(self):\n",
    "        print ('programming Python')\n",
    "    def call_printNeme(self):\n",
    "        user.printName(self,nama)\n",
    "class programmer1(user):\n",
    "    pass\n",
    "\n",
    "brian =user(' Brian')\n",
    "brian.printName()\n",
    "\n",
    "Diana1=programmer1(' Diana1')\n",
    "Diana1.printName()\n",
    "\n",
    "diana=programmer(' diana','sari')\n",
    "diana.printLastname()\n",
    "diana.doPython()"
   ]
  },
  {
   "cell_type": "markdown",
   "metadata": {},
   "source": [
    "Penjelasan contoh program inharitance:\n",
    "\n",
    "Pertama kita membuat class user yang mempunyai method untuk mencetak nama dari atribut nama yang dimasukka melalui objek.\n",
    "\n",
    "Selanjutnya membuat class lagi yaitu class prograammer yang keseluruhan hasmpir sama dengan dengan class-class yang lain, tetapi ada sedikit perbedaan yaitu di class ini mempuyai parameter yang berupa nama class sebelumnya yautu class user. Maka dengan diberikannya parameter tersebut class programmer mewarisi method dan variable dari class user di atas.\n",
    "\n",
    "dan yang terakhir adalah class programmer1 yang diberikan parameter dari induk kelas juga, tetapi isi dari methode di class programmer1 hanya (pass). Jadi maksudnya class ini mewarisi apapun yang ada pada class user yang sebagai induk class nya."
   ]
  },
  {
   "cell_type": "code",
   "execution_count": null,
   "metadata": {},
   "outputs": [],
   "source": [
    "#contoh iharirance \n",
    "\n",
    "class fish:\n",
    "    def __init__(self, first_name,last_name='Fish',skeleton='bone',eyelids=False):\n",
    "        self.first_name= first_name\n",
    "        self.last_name=last_name\n",
    "        self.skeleton=skeleton\n",
    "        self.eyelids=eyelids\n",
    "    def swim(self):\n",
    "        print ('The fish is swimming')\n",
    "    def swim_backwards(self):\n",
    "        print ('The fish can swim backward')\n",
    "class trout(fish):\n",
    "    pass\n",
    "class Clownfish(fish):\n",
    "    def live_with_anemone(self):\n",
    "        print ('The cown fish is coexiting with sea animon')\n",
    "\n",
    "terry=trout('Terry')\n",
    "print (terry.first_name + ' ' + terry.last_name)\n",
    "print (terry.skeleton)\n",
    "print (terry.eyelids)\n",
    "terry.swim()\n",
    "terry.swim_backwards()\n",
    "print ()\n",
    "terry1=trout('TerryS', 'SmallFish','no bone', True)\n",
    "print (terry1.first_name + ' ' + terry.last_name)\n",
    "print (terry1.skeleton)\n",
    "print (terry1.eyelids)\n",
    "terry1.swim()\n",
    "terry1.swim_backwards()\n"
   ]
  },
  {
   "cell_type": "markdown",
   "metadata": {},
   "source": [
    "Sama dengan contoh sebelumnya, dalam contoh diatas class trouth mewarisi semua sifat dafi induk classnya yaitu class fish. Maka di class trout dapat melakukan operasi menggunakan semua methode-methode yang ada di induk classnya."
   ]
  },
  {
   "cell_type": "code",
   "execution_count": null,
   "metadata": {},
   "outputs": [],
   "source": []
  }
 ],
 "metadata": {
  "kernelspec": {
   "display_name": "Python 3",
   "language": "python",
   "name": "python3"
  },
  "language_info": {
   "codemirror_mode": {
    "name": "ipython",
    "version": 3
   },
   "file_extension": ".py",
   "mimetype": "text/x-python",
   "name": "python",
   "nbconvert_exporter": "python",
   "pygments_lexer": "ipython3",
   "version": "3.6.5"
  }
 },
 "nbformat": 4,
 "nbformat_minor": 2
}
